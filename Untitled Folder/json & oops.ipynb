{
 "cells": [
  {
   "cell_type": "code",
   "execution_count": 19,
   "id": "8ac655d1",
   "metadata": {},
   "outputs": [
    {
     "name": "stdout",
     "output_type": "stream",
     "text": [
      "Darshan, [1997-04-14], 168cm, Bangalore, Karnataka\n",
      "Santosh, [1989-12-25], 150cm, Hyderabad, AP\n",
      "JHON, [1999-02-10], 180cm, VANCO, PARIS\n",
      "DAVID, [1999-01-20], 190cm, GAIKOD, MP\n",
      "KEVIN, [1985-11-13], 165cm, BANDRAVAD, CHENNAI\n"
     ]
    }
   ],
   "source": [
    "import json\n",
    "\n",
    "class Employee:\n",
    "    def __init__(self,name,dob,height,city,state):\n",
    "        self.name = name\n",
    "        self.dob = dob\n",
    "        self.height = height\n",
    "        self.city = city\n",
    "        self.state = state\n",
    "\n",
    "    def __str__(self):\n",
    "        return f\"{self.name}, [{self.dob}], {self.height}cm, {self.city}, {self.state}\"\n",
    "\n",
    "with open(\"employee.json\", \"r\") as f:\n",
    "    data = json.load(f)\n",
    "    \n",
    "employees =[]\n",
    "\n",
    "for emp in data[\"employees\"]:\n",
    "   employees.append(Employee(emp[\"name\"], emp[\"dob\"], emp[\"height\"], emp[\"city\"], emp[\"state\"]))\n",
    "\n",
    "\n",
    "for emp in employees:\n",
    "    print(emp)"
   ]
  },
  {
   "cell_type": "code",
   "execution_count": 20,
   "id": "e82b4001",
   "metadata": {},
   "outputs": [],
   "source": [
    "import json\n",
    "states_capitals = {\n",
    "    \"Andhra Pradesh\": \"Hyderabad\",\n",
    "    \"Maharashtra\": \"Mumbai\",\n",
    "    \"Tamil Nadu\": \"Chennai\",\n",
    "    \"Karnataka\": \"Bengaluru\",\n",
    "    \"Uttar Pradesh\": \"Lucknow\",\n",
    "    \"Gujarat\": \"Gandhinagar\",\n",
    "    \"Punjab\": \"Chandigarh\"\n",
    "}\n",
    "with open('states_capitals.json','w') as outfile:\n",
    "    json.dump(states_capitals,outfile)"
   ]
  },
  {
   "cell_type": "code",
   "execution_count": null,
   "id": "37d0ad2b",
   "metadata": {},
   "outputs": [],
   "source": []
  }
 ],
 "metadata": {
  "kernelspec": {
   "display_name": "Python 3 (ipykernel)",
   "language": "python",
   "name": "python3"
  },
  "language_info": {
   "codemirror_mode": {
    "name": "ipython",
    "version": 3
   },
   "file_extension": ".py",
   "mimetype": "text/x-python",
   "name": "python",
   "nbconvert_exporter": "python",
   "pygments_lexer": "ipython3",
   "version": "3.9.13"
  }
 },
 "nbformat": 4,
 "nbformat_minor": 5
}
